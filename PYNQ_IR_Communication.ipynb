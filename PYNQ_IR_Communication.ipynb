{
 "cells": [
  {
   "cell_type": "markdown",
   "metadata": {},
   "source": [
    "# Sending and Receiving IR Signals\n",
    "\n",
    "This PYNQ notebook implements a use-case for arbitrary low-speed signalling I/O.\n",
    "It implements a IOP program to synthesize/capture waveforms from/to data in CMA buffers.\n",
    "Contrary to naïve logic tracing that samples and stores values at a fixed (rather high) frequency, waveform data is stored here as a list of time intervals (i.e. number of system clock cycles) between signal transitions.\n",
    "This allows to synthesize and capture low-speed waveforms efficiently.\n",
    "\n",
    "The particular use-case implemented here is IR remote control message capture and replay.\n",
    "Typical remote controls operate at frequencies of about 35 kHz.\n",
    "This notebook expects a [IRTransceiver Pmod](https://github.com/s-holst/IRTransceiver) connected to PMODA.\n",
    "If this module is not available, run a wire between Pin 0 (TX) and Pin 2 (RX) to create a loop-back.\n",
    "The IOP program is designed to simultaneously send and receive data."
   ]
  },
  {
   "cell_type": "markdown",
   "metadata": {},
   "source": [
    "## 1. Use BaseOverlay and Load IOP Program"
   ]
  },
  {
   "cell_type": "code",
   "execution_count": 1,
   "metadata": {},
   "outputs": [
    {
     "data": {
      "application/javascript": [
       "\n",
       "require(['notebook/js/codecell'], function(codecell) {\n",
       "  codecell.CodeCell.options_default.highlight_modes[\n",
       "      'magic_text/x-csrc'] = {'reg':[/^%%microblaze/]};\n",
       "  Jupyter.notebook.events.one('kernel_ready.Kernel', function(){\n",
       "      Jupyter.notebook.get_cells().map(function(cell){\n",
       "          if (cell.cell_type == 'code'){ cell.auto_highlight(); } }) ;\n",
       "  });\n",
       "});\n"
      ]
     },
     "metadata": {},
     "output_type": "display_data"
    }
   ],
   "source": [
    "import numpy as np\n",
    "import matplotlib.pyplot as plt\n",
    "\n",
    "from pynq.overlays.base import BaseOverlay\n",
    "from pynq import Xlnk\n",
    "\n",
    "base = BaseOverlay('base.bit')\n",
    "base.select_pmoda()\n",
    "xlnk = Xlnk()"
   ]
  },
  {
   "cell_type": "code",
   "execution_count": 2,
   "metadata": {},
   "outputs": [],
   "source": [
    "%%microblaze base.PMODA\n",
    "\n",
    "#include <gpio.h>\n",
    "#include <xtmrctr.h>\n",
    "#include <yield.h>\n",
    "\n",
    "// class-like object: wio\n",
    "typedef int wio;\n",
    "\n",
    "// maximum number of simultaneous instances\n",
    "#define WIO_INST_COUNT 8\n",
    "\n",
    "// instance variables\n",
    "typedef struct wio_inst_type {\n",
    "\n",
    "    unsigned int* tx_buffer;\n",
    "    unsigned int tx_buffer_cur;\n",
    "    unsigned int tx_buffer_len;\n",
    "    unsigned int tx_target_time;\n",
    "    unsigned int tx_await_wrap;\n",
    "    gpio tx_pin;\n",
    "    \n",
    "    unsigned int* rx_buffer;\n",
    "    unsigned int rx_buffer_cur;\n",
    "    unsigned int rx_buffer_len;\n",
    "    unsigned int rx_last_time;\n",
    "    gpio rx_pin;\n",
    "    \n",
    "    unsigned int main_loop_running;\n",
    "    \n",
    "} wio_inst_type;\n",
    "\n",
    "static wio_inst_type wio_inst[WIO_INST_COUNT];\n",
    "static unsigned int wio_inst_count = 0;  // number of allocated instances\n",
    "\n",
    "static XTmrCtr xtimer; // shared by all instances\n",
    "\n",
    "\n",
    "// wio constructor.\n",
    "// Parameters:\n",
    "//  tx_pin: GPIO pin index used for transmission (FPGA output)\n",
    "//  tx_buffer: uint32 CMA array for data to send (see wio.tx_start() comment for data format)\n",
    "//  rx_pin: GPIO pin index used for reception (FPGA input)\n",
    "//  rx_buffer: uint32 CMA array for received data (see wio.rx_cursor() comment for data format)\n",
    "//  rx_buffer_len: Number of words in rx_buffer, must be even\n",
    "wio wio_new(unsigned int tx_pin, void *tx_buffer,\n",
    "            unsigned int rx_pin, void *rx_buffer, unsigned int rx_buffer_len) {\n",
    "    \n",
    "    wio self = wio_inst_count;\n",
    "    wio_inst_count = (wio_inst_count + 1) % WIO_INST_COUNT;\n",
    "    \n",
    "    if (self == 0) {\n",
    "        // First instance initializes shared infrastructure.\n",
    "        // Start a free-running timer for use as a time base:\n",
    "        XTmrCtr_Initialize(&xtimer, 0);\n",
    "        XTmrCtr_SetLoadReg(xtimer.BaseAddress, 0, 0);\n",
    "        XTmrCtr_SetControlStatusReg(xtimer.BaseAddress, 0, XTC_CSR_ENABLE_TMR_MASK | XTC_CSR_AUTO_RELOAD_MASK);\n",
    "    }\n",
    "    \n",
    "    wio_inst[self].tx_buffer = (unsigned int*)tx_buffer;\n",
    "    wio_inst[self].rx_buffer = (unsigned int*)rx_buffer;\n",
    "    wio_inst[self].tx_buffer_len = 0;\n",
    "    wio_inst[self].rx_buffer_len = rx_buffer_len;\n",
    "    wio_inst[self].tx_buffer_cur = 0;\n",
    "    wio_inst[self].rx_buffer_cur = 0;\n",
    "    wio_inst[self].tx_pin = gpio_open(tx_pin);\n",
    "    wio_inst[self].rx_pin = gpio_open(rx_pin);\n",
    "    wio_inst[self].main_loop_running = 0;\n",
    "    \n",
    "    gpio_set_direction(wio_inst[self].tx_pin, GPIO_OUT);\n",
    "    gpio_set_direction(wio_inst[self].rx_pin, GPIO_IN);\n",
    "    \n",
    "    return self;\n",
    "}\n",
    "\n",
    "// Enables data transmissions. This is a long-running function designed to run in the background.\n",
    "// This function will return if wio.disable() is called or wio.enable() is already running.\n",
    "// After calling this function, data can be transmitted using wio.tx_start().\n",
    "// Received data will be continuously written to rx_buffer.\n",
    "// Reception can be monitored by polling wio.rx_cursor().\n",
    "void wio_enable(wio self_id) {\n",
    "    wio_inst_type* self = &wio_inst[self_id];\n",
    "\n",
    "    if (self->main_loop_running)\n",
    "        return;\n",
    "    \n",
    "    self->main_loop_running = 1;\n",
    "    \n",
    "    while (self->main_loop_running) {\n",
    "        \n",
    "        unsigned int current_time = XTmrCtr_GetTimerCounterReg(xtimer.BaseAddress, 0);\n",
    "        int current_rx = gpio_read(self->rx_pin);\n",
    "        \n",
    "        // handle transmissions\n",
    "        \n",
    "        if (self->tx_buffer_cur != self->tx_buffer_len) {\n",
    "            // we have data to transmit.\n",
    "            if (self->tx_buffer_cur == 0) {\n",
    "                // output first rising transition immediately\n",
    "                self->tx_target_time = current_time;\n",
    "                self->tx_await_wrap = 0;\n",
    "            }\n",
    "            if (current_time < self->tx_await_wrap) {\n",
    "                // clear await_wrap if current_time has wrapped\n",
    "                self->tx_await_wrap = 0;\n",
    "            }\n",
    "            if ((self->tx_await_wrap == 0) && (current_time >= self->tx_target_time)) {\n",
    "                // generate transition\n",
    "                gpio_write(self->tx_pin, ~self->tx_buffer_cur & 0x1);\n",
    "                // set target_time for next transition\n",
    "                self->tx_await_wrap = self->tx_target_time;\n",
    "                self->tx_target_time += self->tx_buffer[self->tx_buffer_cur++];\n",
    "                if (self->tx_target_time >= self->tx_await_wrap)\n",
    "                    self->tx_await_wrap = 0;\n",
    "            }\n",
    "        }\n",
    "        \n",
    "        // handle reception\n",
    "        \n",
    "        if ((self->rx_buffer_cur & 0x1) ^ current_rx) {\n",
    "            self->rx_buffer[self->rx_buffer_cur] = current_time - self->rx_last_time;\n",
    "            self->rx_buffer_cur = (self->rx_buffer_cur + 1) % self->rx_buffer_len;\n",
    "            self->rx_last_time = current_time;\n",
    "        }\n",
    "        \n",
    "        // yield to event handling\n",
    "        \n",
    "        yield();\n",
    "    }\n",
    "    \n",
    "}\n",
    "\n",
    "// Disables data transmissions by quitting the long-running function wio.enable().\n",
    "void wio_disable(wio self_id) {\n",
    "    wio_inst[self_id].main_loop_running = 0;\n",
    "}\n",
    "\n",
    "// Returns 1 if long-running background function wio.enable() is running.\n",
    "int wio_enabled(wio self_id) {\n",
    "    return wio_inst[self_id].main_loop_running;\n",
    "}\n",
    "\n",
    "// Start a transmission of data in tx_buffer[0:tx_len].\n",
    "// tx_buffer stores a series of time intervals in number of clock cycles.\n",
    "// The maximum supported time interval is 2**32-1 cycles.\n",
    "// With a standard clock is 100 MHz this is about 42 sec.\n",
    "// tx_buffer[0] is the interval of the first pulse, \n",
    "// tx_buffer[1] is the interval between first pulse and second pulse, and so on.\n",
    "// The last value in a transmission (tx_buffer[tx_len-1]) is effectovely ignored since no pulse or gap follows.\n",
    "// tx_len should be even so the transmission ends with a zero.\n",
    "void wio_tx_start(wio self_id, unsigned int tx_len) {\n",
    "    wio_inst[self_id].tx_buffer_len = tx_len;\n",
    "    wio_inst[self_id].tx_buffer_cur = 0;\n",
    "}\n",
    "\n",
    "// Returns the current transmission cursor.\n",
    "// If the cursor equals the tx_len of the last tx_start, the transmission is complete.\n",
    "int wio_tx_cursor(wio self_id) {\n",
    "    return wio_inst[self_id].tx_buffer_cur;\n",
    "}\n",
    "\n",
    "// Returns the current reception cursor.\n",
    "// This cursor defines the position in rx_buffer that will be written next.\n",
    "// The cursor will wrap around if it reaches the end of rx_buffer.\n",
    "// Therefore, the oldest data rx_buffer gets continuously overwritten.\n",
    "// rx_buffer[0] is the interval between a previous pulse and the following pulse.\n",
    "// rx_buffer[1] is the interval of a pulse, and so on.\n",
    "// The intervals between pulses are accurate only if the gap was less than 42 sec.\n",
    "int wio_rx_cursor(wio self_id) {\n",
    "    return wio_inst[self_id].rx_buffer_cur;\n",
    "}\n",
    "\n",
    "// Sets the rx_cursor to 0.\n",
    "void wio_rx_reset(wio self_id) {\n",
    "    wio_inst[self_id].rx_buffer_cur = 0;\n",
    "}"
   ]
  },
  {
   "cell_type": "markdown",
   "metadata": {},
   "source": [
    "## 2. Basic Operation and Self-Test"
   ]
  },
  {
   "cell_type": "markdown",
   "metadata": {},
   "source": [
    "Allocate two unsigned int buffers for waveform data"
   ]
  },
  {
   "cell_type": "code",
   "execution_count": 3,
   "metadata": {},
   "outputs": [],
   "source": [
    "tx_buffer = xlnk.cma_array(shape=(32*1024), dtype='u4')\n",
    "rx_buffer = xlnk.cma_array(shape=(32*1024), dtype='u4')"
   ]
  },
  {
   "cell_type": "markdown",
   "metadata": {},
   "source": [
    "Allocate and enable the IOP program.\n",
    "The constructor expects the two Pmod pins, the two buffers and the length of the receiving buffer.\n",
    "enable() starts the event loop on the IOP for sending and receiving data."
   ]
  },
  {
   "cell_type": "code",
   "execution_count": 4,
   "metadata": {},
   "outputs": [],
   "source": [
    "wio = wio_new(0, tx_buffer, 2, rx_buffer, len(rx_buffer));\n",
    "wio.enable()"
   ]
  },
  {
   "cell_type": "markdown",
   "metadata": {},
   "source": [
    "Load an example waveform into tx_buffer.\n",
    "Time intervals are expressed as number of AXI clock cycles.\n",
    "The typical clock frequency for PYNQ-Z2 is 100 MHz.\n",
    "Therefore, a value of 1e6 curresponds to an interval of 10ms.\n",
    "The waveform pattern here is: 3 pulses of 10ms with 20ms gaps inbetween (30ms clock period), followed by 2 pulses of 30ms with 40ms gaps."
   ]
  },
  {
   "cell_type": "code",
   "execution_count": 5,
   "metadata": {},
   "outputs": [],
   "source": [
    "tx_buffer[:12] = [1e6, 2e6, 1e6, 2e6, 1e6, 2e6, 3e6, 4e6, 3e6, 4e6, 3e6, 4e6]"
   ]
  },
  {
   "cell_type": "markdown",
   "metadata": {},
   "source": [
    "Any received data will be stored in rx_buffer. Additional data will be stored until the buffer is full, then the cursor will wrap and the oldest data is replaced. Currently, the buffer should be empty and the cursor should be at 0."
   ]
  },
  {
   "cell_type": "code",
   "execution_count": 6,
   "metadata": {},
   "outputs": [
    {
     "data": {
      "text/plain": [
       "PynqBuffer([0, 0, 0, 0, 0, 0, 0, 0, 0, 0, 0, 0, 0, 0, 0, 0], dtype=uint32)"
      ]
     },
     "execution_count": 6,
     "metadata": {},
     "output_type": "execute_result"
    }
   ],
   "source": [
    "rx_buffer[:16]"
   ]
  },
  {
   "cell_type": "code",
   "execution_count": 7,
   "metadata": {},
   "outputs": [
    {
     "data": {
      "text/plain": [
       "0"
      ]
     },
     "execution_count": 7,
     "metadata": {},
     "output_type": "execute_result"
    }
   ],
   "source": [
    "wio.rx_cursor()"
   ]
  },
  {
   "cell_type": "markdown",
   "metadata": {},
   "source": [
    "Lets send the data stored in the tx_buffer.\n",
    "tx_start will start the transmission, the parameter is the number of time intervals to consider from the tx_buffer.\n",
    "Transmission always start at the beginning of the buffer.\n",
    "The function call returns immediately and transmission continues in the background."
   ]
  },
  {
   "cell_type": "code",
   "execution_count": 8,
   "metadata": {},
   "outputs": [],
   "source": [
    "wio.tx_start(12)"
   ]
  },
  {
   "cell_type": "markdown",
   "metadata": {},
   "source": [
    "Check wio.tx_cursor() for the current status of the transmission.\n",
    "The transmission is finished if the return value equals the parameter given to tx_start."
   ]
  },
  {
   "cell_type": "code",
   "execution_count": 9,
   "metadata": {},
   "outputs": [
    {
     "data": {
      "text/plain": [
       "12"
      ]
     },
     "execution_count": 9,
     "metadata": {},
     "output_type": "execute_result"
    }
   ],
   "source": [
    "wio.tx_cursor()"
   ]
  },
  {
   "cell_type": "markdown",
   "metadata": {},
   "source": [
    "The IRTransceiver module should have received its own transmission.\n",
    "Therefore, wio.rx_cursor() should be at 12 now."
   ]
  },
  {
   "cell_type": "code",
   "execution_count": 10,
   "metadata": {},
   "outputs": [
    {
     "data": {
      "text/plain": [
       "12"
      ]
     },
     "execution_count": 10,
     "metadata": {},
     "output_type": "execute_result"
    }
   ],
   "source": [
    "wio.rx_cursor()"
   ]
  },
  {
   "cell_type": "markdown",
   "metadata": {},
   "source": [
    "The rx_buffer now contains time intervals. In contrast to tx_buffer where even indices (0, 2, 4, ...) contain pulse lengths and odd indices (1, 3, 5, ...) contain gap lengths, the roles are switched in rx_buffer. E.g. rx_buffer[1] contains the length of the first pulse. The length of the first gap at the beginning of a reception (rx_buffer[0] here) should usually be ignored. If the time between two pulses is longer than about 42 seconds, the internal counter will wrap around."
   ]
  },
  {
   "cell_type": "code",
   "execution_count": 11,
   "metadata": {},
   "outputs": [
    {
     "data": {
      "text/plain": [
       "PynqBuffer([582810302,     98459,   2901607,     99835,   2900218,\n",
       "                97427,   2902626,     97426,   6902659,     98114,\n",
       "              6901972,     97082], dtype=uint32)"
      ]
     },
     "execution_count": 11,
     "metadata": {},
     "output_type": "execute_result"
    }
   ],
   "source": [
    "rx_buffer[:wio.rx_cursor()]"
   ]
  },
  {
   "cell_type": "markdown",
   "metadata": {},
   "source": [
    "The IRTransceiver module contains a high-pass filter. Therefore, long pulses will be shortened to about 1e5 clock cycles (1ms).\n",
    "However, the expected cycle lengths should match within +/- 100 clock cycles:"
   ]
  },
  {
   "cell_type": "code",
   "execution_count": 12,
   "metadata": {},
   "outputs": [
    {
     "data": {
      "text/plain": [
       "3000000"
      ]
     },
     "execution_count": 12,
     "metadata": {},
     "output_type": "execute_result"
    }
   ],
   "source": [
    "tx_buffer[0] + tx_buffer[1]"
   ]
  },
  {
   "cell_type": "code",
   "execution_count": 13,
   "metadata": {},
   "outputs": [
    {
     "data": {
      "text/plain": [
       "3000066"
      ]
     },
     "execution_count": 13,
     "metadata": {},
     "output_type": "execute_result"
    }
   ],
   "source": [
    "rx_buffer[1] + rx_buffer[2]"
   ]
  },
  {
   "cell_type": "code",
   "execution_count": 14,
   "metadata": {},
   "outputs": [
    {
     "data": {
      "text/plain": [
       "7000000"
      ]
     },
     "execution_count": 14,
     "metadata": {},
     "output_type": "execute_result"
    }
   ],
   "source": [
    "tx_buffer[6] + tx_buffer[7]"
   ]
  },
  {
   "cell_type": "code",
   "execution_count": 15,
   "metadata": {},
   "outputs": [
    {
     "data": {
      "text/plain": [
       "7000085"
      ]
     },
     "execution_count": 15,
     "metadata": {},
     "output_type": "execute_result"
    }
   ],
   "source": [
    "rx_buffer[7] + rx_buffer[8]"
   ]
  },
  {
   "cell_type": "markdown",
   "metadata": {},
   "source": [
    "## 3. IR Remote Communication Analysis"
   ]
  },
  {
   "cell_type": "markdown",
   "metadata": {},
   "source": [
    "The enabled IOP program will automatically safe any received IR communication from remote controls.\n",
    "Get hold of a IR remote controller (i.e. from a TV or an A/C unit).\n",
    "Before recording, let us reset the rx_cursor and clear our self-test data."
   ]
  },
  {
   "cell_type": "code",
   "execution_count": 16,
   "metadata": {},
   "outputs": [
    {
     "data": {
      "text/plain": [
       "0"
      ]
     },
     "execution_count": 16,
     "metadata": {},
     "output_type": "execute_result"
    }
   ],
   "source": [
    "rx_buffer[:] = 0\n",
    "wio.rx_reset()\n",
    "wio.rx_cursor()"
   ]
  },
  {
   "cell_type": "markdown",
   "metadata": {},
   "source": [
    "Now, send some signals from the remote control and confirm the reception by querying rx_cursor and the data in rx_buffer.\n",
    "For typical IR remotes (35 kHz) the rx_buffer of 32k words can hold at least half a second worth of data before wrapping.\n",
    "Most IR remote transmissions will fit into this memory space."
   ]
  },
  {
   "cell_type": "code",
   "execution_count": 17,
   "metadata": {},
   "outputs": [
    {
     "data": {
      "text/plain": [
       "4272"
      ]
     },
     "execution_count": 17,
     "metadata": {},
     "output_type": "execute_result"
    }
   ],
   "source": [
    "wio.rx_cursor()"
   ]
  },
  {
   "cell_type": "code",
   "execution_count": 18,
   "metadata": {},
   "outputs": [
    {
     "data": {
      "text/plain": [
       "PynqBuffer([148779593,      2000,       396,      2001,       716,\n",
       "                 2000,       716,      1679,      1037,      1679,\n",
       "                  717,      2000,       716,      1679,      1038,\n",
       "                 1680,      1038,      1680,      1038,      1359,\n",
       "                 1037,      1679,      1037,      1680,      1038,\n",
       "                 1359,      1358,      1358,      1037,      1680,\n",
       "                 1038,      1359,      1358,      1358,      1358,\n",
       "                 1358,      1037,      1679,      1037,      1358,\n",
       "                 1358,      1359,      1358,      1358,      1037,\n",
       "                 1680,      1038,      1359,      1358,      1358,\n",
       "                 1358,      1358,      1037,      1679,      1037,\n",
       "                 1358,      1358,      1359,      1358,      1358,\n",
       "                 1037,      1680,      1038,      1359,      1358,\n",
       "                 1358,      1358,      1358,      1037,      1358,\n",
       "                 1359,      1358,      1358,      1358,      1358,\n",
       "                 1359,      1358,      1037,      1358,      1359,\n",
       "                 1358,      1358,      1359,      1358,      1359,\n",
       "                 1038,      1358,      1358,      1359,      1358,\n",
       "                 1358,      1358,      1358,      1037,      1358,\n",
       "                 1359,      1358,      1358,      1358,      1358,\n",
       "                 1358,      1037,      1359,      1358,      1358,\n",
       "                 1358,      1358,      1359,      1358,      1037,\n",
       "                 1358,      1358,      1358,      1358,      1358,\n",
       "                 1358,      1358,      1037,      1358,      1359,\n",
       "                 1358,      1358,      1358,      1358,      1358,\n",
       "                 1037,      1359,      1358,      1358,      1358,\n",
       "                 1358,      1359,      1359,      1037,      1358,\n",
       "                 1359,      1358,      1358,      1358,      1358,\n",
       "                 1359,      1038,      1358,      1358,      1359,\n",
       "                 1358,      1358,      1358,      1358,      1037,\n",
       "                 1358,      1359,      1358,      1358,      1358,\n",
       "                 1358,      1358,      1037,      1359,      1358,\n",
       "                 1358,      1358,      1358,      1359,      1358,\n",
       "                 1358,      1038,      1359,      1358,      1358,\n",
       "                 1358,      1358,      1359,      1359,      1037,\n",
       "                 1358,      1359,      1358,      1358,      1358,\n",
       "                 1358,      1358,      1037,      1359,      1358,\n",
       "                 1358,      1358,      1358,      1358,      1358,\n",
       "                 1037,      1359,      1358,      1358,      1358,\n",
       "                 1359,      1358,      1358,      1038,      1359,\n",
       "                 1358,      1358,      1358,      1358,      1358,\n",
       "                 1358,      1037,      1358,      1358,      1359,\n",
       "                 1358,      1358,      1358,      1358,      1038,\n",
       "                 1358,      1358,      1358,      1359,      1359,\n",
       "                 1358,      1358,      1037,      1358,      1358,\n",
       "                 1359,      1358,      1359,      1358,      1358,\n",
       "                 1038,      1359,      1358,      1358,      1358,\n",
       "                 1358,      1359,      1358,      1358,      1038,\n",
       "                 1359,      1358,      1358,      1358,      1358,\n",
       "                 1358,      1358,      1037,      1358,      1358,\n",
       "                 1359,      1358,      1358,      1358,      1358,\n",
       "                 1037], dtype=uint32)"
      ]
     },
     "execution_count": 18,
     "metadata": {},
     "output_type": "execute_result"
    }
   ],
   "source": [
    "rx_buffer[:256]"
   ]
  },
  {
   "cell_type": "markdown",
   "metadata": {},
   "source": [
    "We are interested in clock period lengths (pulse + following gap).\n",
    "Re-arrange the rx_buffer data, sum pulse and gap lengths, and convert to microseconds."
   ]
  },
  {
   "cell_type": "code",
   "execution_count": 19,
   "metadata": {},
   "outputs": [
    {
     "data": {
      "text/plain": [
       "array([ 23.96,  27.17,  27.16, ...,   0.  ,   0.  ,   0.  ])"
      ]
     },
     "execution_count": 19,
     "metadata": {},
     "output_type": "execute_result"
    }
   ],
   "source": [
    "period_lengths_us = np.asarray(rx_buffer[1:-1].reshape((-1, 2)).sum(axis=1)) / 100\n",
    "period_lengths_us"
   ]
  },
  {
   "cell_type": "markdown",
   "metadata": {},
   "source": [
    "Let's take a look at the frequency spectrum at 25-50 kHz.\n",
    "There may be one or more peaks visible."
   ]
  },
  {
   "cell_type": "code",
   "execution_count": 20,
   "metadata": {},
   "outputs": [
    {
     "data": {
      "image/png": "[encoded data removed]",
      "text/plain": [
       "<matplotlib.figure.Figure at 0xadb7dbf0>"
      ]
     },
     "metadata": {},
     "output_type": "display_data"
    }
   ],
   "source": [
    "plt.hist(period_lengths_us, range=(20, 40), bins=50)\n",
    "plt.show()"
   ]
  },
  {
   "cell_type": "markdown",
   "metadata": {},
   "source": [
    "Let's demodulate the signal.\n",
    "Clock periods shorter than 40us are combined into a long pulse, longer periods produce a gap."
   ]
  },
  {
   "cell_type": "code",
   "execution_count": 21,
   "metadata": {},
   "outputs": [],
   "source": [
    "demodulated = []\n",
    "current_pulse_length = 0\n",
    "for l in period_lengths_us:\n",
    "    if l < 40:\n",
    "        current_pulse_length += l\n",
    "    else:\n",
    "        demodulated.append([current_pulse_length, l])\n",
    "        current_pulse_length = 0\n",
    "demodulated = np.asarray(demodulated)"
   ]
  },
  {
   "cell_type": "markdown",
   "metadata": {},
   "source": [
    "The first value in each row is the time the 40 kHz signal was active, the second value is the pause that followed. You should be able to identify the individual data frames. Often data frames start with a long start signal and end with a rather large gap."
   ]
  },
  {
   "cell_type": "code",
   "execution_count": 22,
   "metadata": {},
   "outputs": [
    {
     "data": {
      "text/plain": [
       "array([[  8993.43,   4505.12],\n",
       "       [   557.66,    579.28],\n",
       "       [   554.48,    579.28],\n",
       "       [   554.48,   1686.73],\n",
       "       [   554.49,    579.28],\n",
       "       [   554.54,    579.28],\n",
       "       [   554.5 ,    579.3 ],\n",
       "       [   554.46,    579.29],\n",
       "       [   554.5 ,   1686.73],\n",
       "       [   554.54,   1686.73],\n",
       "       [   554.49,    579.28],\n",
       "       [   554.44,    579.28],\n",
       "       [   554.49,   1686.74],\n",
       "       [   554.47,   1686.74],\n",
       "       [   554.51,   1686.74],\n",
       "       [   554.46,   1686.75],\n",
       "       [   554.48,   1686.73],\n",
       "       [   554.51,    579.28],\n",
       "       [   557.66,    579.28],\n",
       "       [   554.46,   1686.73],\n",
       "       [   554.47,    579.28],\n",
       "       [   554.48,    579.28],\n",
       "       [   554.52,   1686.74],\n",
       "       [   554.52,    579.28],\n",
       "       [   554.48,    579.29],\n",
       "       [   554.47,   1686.74],\n",
       "       [   554.5 ,   1686.74],\n",
       "       [   554.47,    579.28],\n",
       "       [   554.46,   1686.74],\n",
       "       [   554.46,   1686.73],\n",
       "       [   554.49,    579.29],\n",
       "       [   554.49,   1686.73],\n",
       "       [   554.43,   1686.75],\n",
       "       [   554.48,  40463.53],\n",
       "       [  8993.31,   4508.33],\n",
       "       [   554.47,    579.29],\n",
       "       [   554.47,    579.28],\n",
       "       [   554.48,   1686.73],\n",
       "       [   554.48,    579.29],\n",
       "       [   554.52,    579.28],\n",
       "       [   554.51,    579.29],\n",
       "       [   554.46,    579.28],\n",
       "       [   554.52,   1686.73],\n",
       "       [   554.48,   1686.73],\n",
       "       [   554.51,    579.28],\n",
       "       [   554.48,    579.28],\n",
       "       [   554.48,   1686.74],\n",
       "       [   554.53,   1686.73],\n",
       "       [   554.46,   1686.75],\n",
       "       [   554.49,   1686.75],\n",
       "       [   554.49,   1686.75],\n",
       "       [   557.66,    579.28],\n",
       "       [   554.49,    579.29],\n",
       "       [   554.47,   1686.74],\n",
       "       [   554.53,    579.29],\n",
       "       [   554.47,    579.29],\n",
       "       [   554.52,   1686.74],\n",
       "       [   554.5 ,    579.28],\n",
       "       [   554.47,    579.28],\n",
       "       [   554.48,   1686.73],\n",
       "       [   554.55,   1686.73],\n",
       "       [   554.46,    579.29],\n",
       "       [   554.47,   1686.74],\n",
       "       [   554.47,   1686.73],\n",
       "       [   554.54,    579.29],\n",
       "       [   554.52,   1686.73],\n",
       "       [   554.48,   1686.73]])"
      ]
     },
     "execution_count": 22,
     "metadata": {},
     "output_type": "execute_result"
    }
   ],
   "source": [
    "demodulated"
   ]
  },
  {
   "cell_type": "markdown",
   "metadata": {},
   "source": [
    "You should now be able to identify the individual symbols in the demodulated data and decode your IR remote."
   ]
  },
  {
   "cell_type": "code",
   "execution_count": null,
   "metadata": {},
   "outputs": [],
   "source": []
  }
 ],
 "metadata": {
  "kernelspec": {
   "display_name": "Python 3",
   "language": "python",
   "name": "python3"
  },
  "language_info": {
   "codemirror_mode": {
    "name": "ipython",
    "version": 3
   },
   "file_extension": ".py",
   "mimetype": "text/x-python",
   "name": "python",
   "nbconvert_exporter": "python",
   "pygments_lexer": "ipython3",
   "version": "3.6.5"
  }
 },
 "nbformat": 4,
 "nbformat_minor": 2
}
